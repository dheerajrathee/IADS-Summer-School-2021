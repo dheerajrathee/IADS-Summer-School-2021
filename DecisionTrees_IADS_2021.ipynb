{
  "nbformat": 4,
  "nbformat_minor": 0,
  "metadata": {
    "colab": {
      "name": "DecisionTrees_IADS_2021.ipynb",
      "provenance": [],
      "collapsed_sections": [],
      "include_colab_link": true
    },
    "kernelspec": {
      "name": "python3",
      "display_name": "Python 3"
    }
  },
  "cells": [
    {
      "cell_type": "markdown",
      "metadata": {
        "id": "view-in-github",
        "colab_type": "text"
      },
      "source": [
        "<a href=\"https://colab.research.google.com/github/dheerajrathee/IADS-Summer-School-2021/blob/main/DecisionTrees_IADS_2021.ipynb\" target=\"_parent\"><img src=\"https://colab.research.google.com/assets/colab-badge.svg\" alt=\"Open In Colab\"/></a>"
      ]
    },
    {
      "cell_type": "markdown",
      "metadata": {
        "id": "ev6gbXGYfLfp"
      },
      "source": [
        "# **Introduction**\n",
        "\n",
        "A **decision tree** is a supervised machine learning model used to predict a target by learning decision rules from features. As the name suggests, we can think of this model as breaking down our data by making a decision based on asking a series of questions.\n",
        "\n",
        "\n",
        "Based on the features in our training set, the decision tree model learns a series of questions to infer the class labels of the samples. As we can see, decision trees are attractive models if we care about interpretability.\n",
        "\n",
        "Although the preceding figure illustrates the concept of a decision tree based on categorical targets (**classification**), the same concept applies if our targets are real numbers (**regression**).\n",
        "\n",
        "\n",
        "\n"
      ]
    },
    {
      "cell_type": "code",
      "metadata": {
        "id": "DPBHwNGVpbPq",
        "colab": {
          "base_uri": "https://localhost:8080/"
        },
        "outputId": "8a1c55d7-cf9b-4fcb-ee00-4ce580479d86"
      },
      "source": [
        "from google.colab import drive\n",
        "drive.mount('/gdrive')\n",
        "%cd /gdrive/My Drive/IADS-Summer-School-2021\n",
        "\n",
        "!pwd"
      ],
      "execution_count": null,
      "outputs": [
        {
          "output_type": "stream",
          "text": [
            "Drive already mounted at /gdrive; to attempt to forcibly remount, call drive.mount(\"/gdrive\", force_remount=True).\n",
            "/gdrive/My Drive/IADS Summer School 2021\n",
            "/gdrive/My Drive/IADS Summer School 2021\n"
          ],
          "name": "stdout"
        }
      ]
    },
    {
      "cell_type": "markdown",
      "metadata": {
        "id": "0jWOszUoksPX"
      },
      "source": [
        "# Dataset for Classification\n",
        "\n",
        "\n",
        "\n",
        "\n",
        "> **Dataset:**  [Iris dataset](https://scikit-learn.org/stable/datasets/index.html#iris-dataset).\n",
        "\n",
        "\n",
        "\n",
        "*   **Number of Instances:** \n",
        "    *   150 (50 in each of three classes)\n",
        "*   **Number of Attributes:**\n",
        "    *   4 numeric, predictive attributes and the class\n",
        "\n",
        "*   **Attribute Information:**\n",
        "    *   sepal length in cm\n",
        "    *   sepal width in cm\n",
        "    *   petal length in cm\n",
        "    *   petal width in cm\n",
        "\n",
        "*   **Classes:**\n",
        "    *   Setosa (0)\n",
        "    *   Versicolour (1)\n",
        "    *   Virginica (2)\n",
        "    \n",
        "\n",
        "\n",
        "\n",
        "\n"
      ]
    },
    {
      "cell_type": "markdown",
      "metadata": {
        "id": "06YtVCBqkbf5"
      },
      "source": [
        "# Classification Code\n"
      ]
    },
    {
      "cell_type": "code",
      "metadata": {
        "id": "XhWxdDXGfa_Y"
      },
      "source": [
        "from sklearn import datasets  # DATA\n",
        "from sklearn.model_selection import train_test_split # to Split Train-Test data\n",
        "from sklearn import tree # To get Decision Tree \n",
        "from sklearn import metrics # To generate evaluation metrices\n",
        "from sklearn.model_selection import cross_val_predict # To generate evaluation metrices\n",
        "from sklearn.model_selection import cross_val_score # To generate evaluation metrices\n",
        "\n",
        "\n",
        "from sklearn.tree import export_graphviz # exporting the tree structure as dot file\n",
        "from pydotplus.graphviz import graph_from_dot_data # export png image from dot file\n",
        "from IPython.display import Image, SVG  # Show the image within colab notebook\n",
        "from graphviz import Source # Show the image within colab notebook\n",
        "import matplotlib.pyplot as plt # Plotting\n",
        "\n",
        "import pandas as pd # for basic data manipulations \n",
        "import numpy as np # for basic data manipulations \n",
        "\n"
      ],
      "execution_count": null,
      "outputs": []
    },
    {
      "cell_type": "markdown",
      "metadata": {
        "id": "PVvhtZmzgZt6"
      },
      "source": [
        "### 1. Load Data"
      ]
    },
    {
      "cell_type": "code",
      "metadata": {
        "id": "2Ouc794ShFCX"
      },
      "source": [
        "#load data and see meta info\n",
        "iris = datasets.load_iris()\n",
        "dir(iris)"
      ],
      "execution_count": null,
      "outputs": []
    },
    {
      "cell_type": "markdown",
      "metadata": {
        "id": "jn5ALWzlg5v_"
      },
      "source": [
        "### 2. Explore Data\n"
      ]
    },
    {
      "cell_type": "code",
      "metadata": {
        "id": "k6uvmutxjMWx"
      },
      "source": [
        "# print type and shape of data\n",
        "print(type(iris.data))\n",
        "print(type(iris.target))\n",
        "\n",
        "print(iris.data.shape)\n",
        "print(iris.target.shape)"
      ],
      "execution_count": null,
      "outputs": []
    },
    {
      "cell_type": "markdown",
      "metadata": {
        "id": "PWK8ExaZieM9"
      },
      "source": [
        "### 3. Create Panda Dataframe and do data manipulations"
      ]
    },
    {
      "cell_type": "code",
      "metadata": {
        "id": "M8GXIW8bhdyn"
      },
      "source": [
        "dfCls = pd.DataFrame(iris.data, columns=iris.feature_names)\n",
        "dfCls.head()"
      ],
      "execution_count": null,
      "outputs": []
    },
    {
      "cell_type": "code",
      "metadata": {
        "id": "OAUu50i_hk8P"
      },
      "source": [
        "# Add target data to the panda dataframe\n",
        "dfCls['target'] = iris.target\n",
        "dfCls.head()"
      ],
      "execution_count": null,
      "outputs": []
    },
    {
      "cell_type": "markdown",
      "metadata": {
        "id": "92JNHnFqiwq-"
      },
      "source": [
        "### 4. Split the data for Training and Testing"
      ]
    },
    {
      "cell_type": "code",
      "metadata": {
        "id": "ac89rgVlkDHA"
      },
      "source": [
        "X_train, X_test, y_train, y_test = train_test_split(dfCls.drop(['target'],axis='columns'), iris.target, test_size=0.2,random_state=0, stratify=iris.target)\n",
        "print(X_train.shape)\n",
        "print(X_test.shape)"
      ],
      "execution_count": null,
      "outputs": []
    },
    {
      "cell_type": "markdown",
      "metadata": {
        "id": "WmFoeacki95Y"
      },
      "source": [
        "### 5. Initialise a Decision Tree Classifier"
      ]
    },
    {
      "cell_type": "code",
      "metadata": {
        "id": "qmsuBza6lba-"
      },
      "source": [
        "dtClassifier = tree.DecisionTreeClassifier(class_weight=None, criterion='gini', max_depth=None,\n",
        "                       max_features=None, max_leaf_nodes=None,\n",
        "                       min_impurity_decrease=0.0, min_impurity_split=None,\n",
        "                       min_samples_leaf=1, min_samples_split=2,\n",
        "                       min_weight_fraction_leaf=0.0, presort=False,\n",
        "                       random_state=0, splitter='best')"
      ],
      "execution_count": null,
      "outputs": []
    },
    {
      "cell_type": "markdown",
      "metadata": {
        "id": "gY8sN-mo4Ztn"
      },
      "source": [
        "\n",
        "\n",
        "> ***Let's dig into*** **[tree.DecisionTreeClassifier](https://scikit-learn.org/stable/modules/generated/sklearn.tree.DecisionTreeClassifier.html)**\n",
        "\n"
      ]
    },
    {
      "cell_type": "code",
      "metadata": {
        "id": "Oy1o-WdTFKx7"
      },
      "source": [
        "Image('eval-class.jpg', width=800, height=500)"
      ],
      "execution_count": null,
      "outputs": []
    },
    {
      "cell_type": "markdown",
      "metadata": {
        "id": "2LZ65_P4CuiZ"
      },
      "source": [
        "### 6. Model Evaluation on Train data"
      ]
    },
    {
      "cell_type": "code",
      "metadata": {
        "id": "nbphECGHXQTg"
      },
      "source": [
        "#perform 10 fold cross validation and plot the CM\n",
        "CV_predicted = cross_val_predict(dtClassifier, X_train, y_train, cv=10) #CV predicted values (training data)\n",
        "CV_score = cross_val_score(dtClassifier, X_train, y_train, cv=10) #CV model score (training data)\n",
        "\n",
        "print(\"Cross validation Score on train data: \",CV_score.mean())\n",
        "print(\"\\n\")\n",
        "\n",
        "print(\"Confusion matrix on CV predictions (train data)\")\n",
        "print(metrics.confusion_matrix(y_train, CV_predicted)) # confusion matrix on CV predictions (train data)\n",
        "print(\"\\n\")\n",
        "\n",
        "print(\"Classification report CV predictions (train data)\")\n",
        "print(metrics.classification_report(y_train, CV_predicted, target_names=['Setosa', 'Versicolor', 'Virginica'])) # classification report CV predictions (train data)\n"
      ],
      "execution_count": null,
      "outputs": []
    },
    {
      "cell_type": "markdown",
      "metadata": {
        "id": "0FHoUgZGjHSo"
      },
      "source": [
        "### 7. Let's fit the DT model on Training data and perform prediction with the Test data "
      ]
    },
    {
      "cell_type": "code",
      "metadata": {
        "id": "9afkTHSwlh-y"
      },
      "source": [
        "dtClassifier.fit(X_train,y_train)\n",
        "\n",
        "y_predicted = dtClassifier.predict(X_test)"
      ],
      "execution_count": null,
      "outputs": []
    },
    {
      "cell_type": "markdown",
      "metadata": {
        "id": "TcorWrwVjlr_"
      },
      "source": [
        "### 8. Model Evaluation on Test Data"
      ]
    },
    {
      "cell_type": "code",
      "metadata": {
        "id": "fgGWc9H3lpbO"
      },
      "source": [
        "mdl_score = dtClassifier.score(X_test,y_test) #model score (test data)\n",
        "print (\"Model Score on test data:\",mdl_score)\n",
        "print(\"\\n\")\n",
        "\n",
        "print(\"Confusion matrix (test data)\")\n",
        "print(metrics.confusion_matrix(y_test, y_predicted)) #confusion matrix (test data)\n",
        "print(\"\\n\")\n",
        "\n",
        "print(\"Classification report (test data)\")\n",
        "print(metrics.classification_report(y_test, y_predicted, target_names=['Setosa', 'Versicolor', 'Virginica'])) # classification report (test data)"
      ],
      "execution_count": null,
      "outputs": []
    },
    {
      "cell_type": "markdown",
      "metadata": {
        "id": "qoriwm0kj8m_"
      },
      "source": [
        "### 10. Plot the trained DT structure for visualisation"
      ]
    },
    {
      "cell_type": "code",
      "metadata": {
        "id": "G43-btuxhx2b"
      },
      "source": [
        "# Plot the smallest tree\n",
        "graph = Source(export_graphviz(dtClassifier, out_file=None, \n",
        "                               feature_names=X_train.columns, filled=True, \n",
        "                               class_names=['Setosa', 'Versicolor','Virginica']))\n",
        "SVG(graph.pipe(format='svg'))"
      ],
      "execution_count": null,
      "outputs": []
    },
    {
      "cell_type": "markdown",
      "metadata": {
        "id": "5WTLwNH80561"
      },
      "source": [
        "# Dataset for Regression\n",
        "\n",
        "\n",
        "\n",
        "> **Dataset:**  [Boston house-price](https://scikit-learn.org/stable/datasets/index.html#boston-dataset)\n",
        "\n",
        "\n",
        "\n",
        "*   **Number of Instances:** \n",
        "    *   \t506\n",
        "*   **Number of Attributes:**\n",
        "    *   13 numeric/categorical predictive. Median Value (attribute 14) is usually the target.\n",
        "\n",
        "*   **Attribute Information:**\n",
        "    *   CRIM per capita crime rate by town\n",
        "    *   ZN proportion of residential land zoned for lots over 25,000 sq.ft.\n",
        "    *   INDUS proportion of non-retail business acres per town\n",
        "    *   CHAS Charles River dummy variable (= 1 if tract bounds river; 0 otherwise)\n",
        "    *   NOX nitric oxides concentration (parts per 10 million)\n",
        "    *   RM average number of rooms per dwelling\n",
        "    *   AGE proportion of owner-occupied units built prior to 1940\n",
        "    *   DIS weighted distances to five Boston employment centres\n",
        "    *   RAD index of accessibility to radial highways\n",
        "    *   TAX full-value property-tax rate per \\$10,000\n",
        "    *   PTRATIO pupil-teacher ratio by town\n",
        "    *   B 1000(Bk - 0.63)^2 where Bk is the proportion of blacks by town\n",
        "    *   LSTAT \\% lower status of the population\n",
        "    *   MEDV Median value of owner-occupied homes in \\$1000’s\n",
        "\n",
        "\n",
        "\n",
        "\n",
        "\n",
        "\n"
      ]
    },
    {
      "cell_type": "markdown",
      "metadata": {
        "id": "6-tL32fA2jHQ"
      },
      "source": [
        "# Regression Code"
      ]
    },
    {
      "cell_type": "markdown",
      "metadata": {
        "id": "sotLN7jW2u1z"
      },
      "source": [
        "### 1. Load Data"
      ]
    },
    {
      "cell_type": "code",
      "metadata": {
        "id": "RmSgDkjSrmlJ"
      },
      "source": [
        "#load data and see meta info\n",
        "boston = datasets.load_boston()\n",
        "dir(boston)"
      ],
      "execution_count": null,
      "outputs": []
    },
    {
      "cell_type": "markdown",
      "metadata": {
        "id": "DXt7_Bd42xVD"
      },
      "source": [
        "### 2. Explore Data"
      ]
    },
    {
      "cell_type": "code",
      "metadata": {
        "id": "OCMT1DpU4I8L"
      },
      "source": [
        "# print type and shape of data\n",
        "print(type(boston.data))\n",
        "print(type(boston.target))\n",
        "\n",
        "print(boston.data.shape)\n",
        "print(boston.target.shape)"
      ],
      "execution_count": null,
      "outputs": []
    },
    {
      "cell_type": "markdown",
      "metadata": {
        "id": "pB0F9RUh2xHl"
      },
      "source": [
        "### 3. Create Panda Dataframe and do data manipulations"
      ]
    },
    {
      "cell_type": "code",
      "metadata": {
        "id": "qm67vAVE4f_m"
      },
      "source": [
        "dfReg = pd.DataFrame(boston.data, columns=boston.feature_names)\n",
        "dfReg.head()"
      ],
      "execution_count": null,
      "outputs": []
    },
    {
      "cell_type": "code",
      "metadata": {
        "id": "KZyLRoTE4fql"
      },
      "source": [
        "# Add target data to the panda dataframe\n",
        "dfReg['target'] = boston.target\n",
        "dfReg.head()"
      ],
      "execution_count": null,
      "outputs": []
    },
    {
      "cell_type": "code",
      "metadata": {
        "id": "eBmlPHz06G3x"
      },
      "source": [
        "dfReg.describe() # Description of data"
      ],
      "execution_count": null,
      "outputs": []
    },
    {
      "cell_type": "code",
      "metadata": {
        "id": "mtf5Y5dk6c9l"
      },
      "source": [
        "dfReg.info()"
      ],
      "execution_count": null,
      "outputs": []
    },
    {
      "cell_type": "markdown",
      "metadata": {
        "id": "KydVGZR62xEl"
      },
      "source": [
        "### 4. Split the data for Training and Testing"
      ]
    },
    {
      "cell_type": "code",
      "metadata": {
        "id": "1sDtyMsH7A1u"
      },
      "source": [
        "X_train, X_test, y_train, y_test = train_test_split(dfReg.drop(['target'],axis='columns'),boston.target,test_size=0.1,random_state=0)\n",
        "print(X_train.shape)\n",
        "print(X_test.shape)"
      ],
      "execution_count": null,
      "outputs": []
    },
    {
      "cell_type": "markdown",
      "metadata": {
        "id": "TuKOHcW42xBs"
      },
      "source": [
        "### 5. Initialise a Decision Tree Regressor"
      ]
    },
    {
      "cell_type": "code",
      "metadata": {
        "id": "zT8avjXq9QUt"
      },
      "source": [
        "dtRegressor = tree.DecisionTreeRegressor(criterion='mse', max_depth=None, max_features=None,\n",
        "                      max_leaf_nodes=None, min_impurity_decrease=0.0,\n",
        "                      min_impurity_split=None, min_samples_leaf=1,\n",
        "                      min_samples_split=2, min_weight_fraction_leaf=0.0,\n",
        "                      presort=False, random_state=0, splitter='best')"
      ],
      "execution_count": null,
      "outputs": []
    },
    {
      "cell_type": "markdown",
      "metadata": {
        "id": "QZoG0sHz5GH8"
      },
      "source": [
        "\n",
        "\n",
        "> ***Let's dig into*** **[tree.DecisionTreeRegressor](https://scikit-learn.org/stable/modules/generated/sklearn.tree.DecisionTreeRegressor.html)**\n",
        "\n",
        "\n",
        "\n",
        "\n"
      ]
    },
    {
      "cell_type": "markdown",
      "metadata": {
        "id": "t282VQHAcUc6"
      },
      "source": [
        "### 6. Model Performance on Train data"
      ]
    },
    {
      "cell_type": "code",
      "metadata": {
        "id": "6B190_lRTHrW"
      },
      "source": [
        "CV_predicted = cross_val_predict(dtRegressor, X_train, y_train, cv=10) # CV prediction on Train data\n",
        "r2_score_cv = cross_val_score(dtRegressor, X_train, y_train, cv=10).mean() # CV model score on Train data\n",
        "print (\"Crossvalidation Coefficient of determination on training set :\",r2_score_cv)\n",
        "print(\"\\n\")\n",
        "# Plot measured values vs predicted values Training Data\n",
        "plt.figure(num=None, figsize=(12, 8), dpi=80, facecolor='w', edgecolor='k')\n",
        "plt.scatter(y_train, CV_predicted, edgecolors=(0, 0, 0))\n",
        "plt.plot([y_train.min(), y_train.max()], [y_train.min(), y_train.max()], 'r--', lw=4)\n",
        "plt.xlabel('Measured')\n",
        "plt.ylabel('Predicted')\n",
        "plt.title('Measured vs Predicted Values for Training Data (10x CV)')\n",
        "plt.show()"
      ],
      "execution_count": null,
      "outputs": []
    },
    {
      "cell_type": "markdown",
      "metadata": {
        "id": "x-U_izjqclxh"
      },
      "source": [
        "### 7.  Let's fit the DT model on Training data and perform prediction with the Test data "
      ]
    },
    {
      "cell_type": "code",
      "metadata": {
        "id": "3s3qAAYp9ij9"
      },
      "source": [
        "dtRegressor.fit(X_train,y_train)\n",
        "\n",
        "y_predicted = dtRegressor.predict(X_test)"
      ],
      "execution_count": null,
      "outputs": []
    },
    {
      "cell_type": "markdown",
      "metadata": {
        "id": "y6CvPPeCc6yI"
      },
      "source": [
        "### 8. Model Performance on Test data"
      ]
    },
    {
      "cell_type": "code",
      "metadata": {
        "id": "mJlZDWPvRVBt"
      },
      "source": [
        "r2_score = dtRegressor.score(X_test,y_test) #R2 Score\n",
        "print (\"Coefficient of determination on test set: \",r2_score)\n",
        "\n",
        "mse_score = metrics.mean_squared_error(y_test, y_predicted) #Mean Squared Error\n",
        "print (\"\\nMean Squared Error on test set :\",mse_score)"
      ],
      "execution_count": null,
      "outputs": []
    },
    {
      "cell_type": "markdown",
      "metadata": {
        "id": "YhhvUX4cgH90"
      },
      "source": [
        "### 9. Visualisation"
      ]
    },
    {
      "cell_type": "code",
      "metadata": {
        "id": "BoCKwfr4V38t"
      },
      "source": [
        "# Plot measured values vs predicted values\n",
        "plt.figure(num=None, figsize=(12, 8), dpi=80, facecolor='w', edgecolor='k')\n",
        "plt.scatter(y_test, y_predicted, edgecolors=(0, 0, 0))\n",
        "plt.plot([y_test.min(), y_test.max()], [y_test.min(), y_test.max()], 'r--', lw=4)\n",
        "plt.xlabel('Measured')\n",
        "plt.ylabel('Predicted')\n",
        "plt.title('Measured vs Predicted Values for Test Data')\n",
        "plt.show()"
      ],
      "execution_count": null,
      "outputs": []
    },
    {
      "cell_type": "code",
      "metadata": {
        "id": "BqCoqPvIdigG"
      },
      "source": [
        "# Plot a one-to-one comparison of measured values vs predicted values\n",
        "plt.figure(num=None, figsize=(25, 4), dpi=80, facecolor='w', edgecolor='k')\n",
        "plt.plot(y_predicted, 'gd-', label='DecisionTreeRegressor')\n",
        "plt.plot(y_test, 'r*-', label='Actual values')\n",
        "plt.tick_params(axis='x', which='both', bottom=False, top=False,\n",
        "                labelbottom=False)\n",
        "plt.ylabel('Target values')\n",
        "plt.xlabel('Training samples')\n",
        "plt.legend(loc=\"best\")\n",
        "plt.title('Comparison of individual sample predictions')\n",
        "plt.show()"
      ],
      "execution_count": null,
      "outputs": []
    },
    {
      "cell_type": "code",
      "metadata": {
        "id": "cpeTU5jwRz4z"
      },
      "source": [
        "# #############################################################################\n",
        "# Plot feature importance\n",
        "feature_importance = dtRegressor.feature_importances_\n",
        "# make importances relative to max importance\n",
        "feature_importance = 100.0 * (feature_importance / feature_importance.max())\n",
        "sorted_idx = np.argsort(feature_importance)\n",
        "pos = range(X_train.shape[1]);\n",
        "\n",
        "plt.figure(figsize=(10,8))\n",
        "plt.barh(pos, feature_importance[sorted_idx], align='center')\n",
        "plt.yticks(pos, boston.feature_names[sorted_idx])\n",
        "plt.xlabel('Relative Importance')\n",
        "plt.title('Variable Importance')\n",
        "\n",
        "plt.show()"
      ],
      "execution_count": null,
      "outputs": []
    }
  ]
}